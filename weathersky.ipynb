{
 "cells": [
  {
   "cell_type": "code",
   "execution_count": null,
   "id": "740d007d",
   "metadata": {},
   "outputs": [],
   "source": [
    "from atproto import Client, client_utils\n",
    "# import dataset\n",
    "from nwsapy import api_connector\n",
    "\n",
    "import datetime\n",
    "import json\n",
    "import os\n",
    "# import pickle\n",
    "# from pprint import pp as prettyprint\n",
    "from socket import gethostname\n",
    "from time import sleep"
   ]
  },
  {
   "cell_type": "code",
   "execution_count": null,
   "id": "3758f585",
   "metadata": {},
   "outputs": [],
   "source": [
    "api_connector.set_user_agent('NotNWSTornado.bsky.social', 'Mike Stucka - last name at that Google mail service')"
   ]
  },
  {
   "cell_type": "code",
   "execution_count": null,
   "id": "e0dfe504",
   "metadata": {},
   "outputs": [],
   "source": [
    "testenvironments = [\"mikelight\"]\n",
    "if gethostname() in testenvironments:\n",
    "    testenvironment = True\n",
    "else:\n",
    "    testenvironment = False\n",
    "    \n",
    "hackyenvironments = {\n",
    "    \"racknerd-26f61a\": \"/var/www/html/tornado/tornado-log.txt\",\n",
    "}\n",
    "    \n",
    "if gethostname() in hackyenvironments:    \n",
    "    hackyenvironment = hackyenvironments[gethostname()]\n",
    "else:\n",
    "    hackyenvironment = False"
   ]
  },
  {
   "cell_type": "code",
   "execution_count": null,
   "id": "6a7a8142",
   "metadata": {},
   "outputs": [],
   "source": [
    "global timestamp\n",
    "timestamp = datetime.datetime.now(datetime.timezone.utc)\n",
    "naptime = 0.5"
   ]
  },
  {
   "cell_type": "code",
   "execution_count": null,
   "id": "1402e88f",
   "metadata": {},
   "outputs": [],
   "source": [
    "weatherskyconfigfile = \"weathersky-config.json\"\n",
    "if not os.path.exists(weatherskyconfigfile):\n",
    "    print(\"You're missing a weathersky-config.json file. Make one from the template.\")\n",
    "else:\n",
    "    with open(weatherskyconfigfile, \"r\", encoding=\"utf-8\") as infile:\n",
    "        config = json.load(infile)"
   ]
  },
  {
   "cell_type": "code",
   "execution_count": null,
   "id": "36e5ff4d",
   "metadata": {},
   "outputs": [],
   "source": [
    "recentspottingsfile = \"recent-spottings.json\"\n",
    "if not os.path.exists(recentspottingsfile):\n",
    "    print(f\"No {recentspottingsfile} found. Intializing.\")\n",
    "    recentspottings = {}\n",
    "else:\n",
    "    with open(recentspottingsfile, \"r\", encoding=\"utf-8\") as infile:\n",
    "        recentspottings = json.load(infile)\n",
    "        print(f\"{recentspottingsfile} found with {len(recentspottings):,} entries.\")"
   ]
  },
  {
   "cell_type": "code",
   "execution_count": null,
   "id": "7f483e9d",
   "metadata": {},
   "outputs": [],
   "source": []
  },
  {
   "cell_type": "code",
   "execution_count": null,
   "id": "f2ab6abb",
   "metadata": {},
   "outputs": [],
   "source": [
    "tor_warnings = api_connector.get_active_alerts(event = \"Tornado Warning\")"
   ]
  },
  {
   "cell_type": "code",
   "execution_count": null,
   "id": "20dd5dbf",
   "metadata": {},
   "outputs": [],
   "source": [
    "if tor_warnings.has_any_request_errors:\n",
    "    raise ConnectionError(f\"Details: {tor_warnings['detail']}\")"
   ]
  },
  {
   "cell_type": "code",
   "execution_count": null,
   "id": "b4586c24",
   "metadata": {},
   "outputs": [],
   "source": [
    "new_warnings = []\n",
    "for tor_warning in tor_warnings:\n",
    "    if tor_warning.id in recentspottings:\n",
    "        print(f\"Already seen {tor_warning.id}\")\n",
    "    else:\n",
    "        recentspottings[tor_warning.id] = {\n",
    "            \"first_seen\": json.dumps(timestamp, default=str),\n",
    "            \"entryholder\": json.dumps(tor_warning.to_dict(), default=str)\n",
    "        }\n",
    "        new_warnings.append(tor_warning)"
   ]
  },
  {
   "cell_type": "code",
   "execution_count": null,
   "id": "50bb7199",
   "metadata": {},
   "outputs": [],
   "source": [
    "def clean_text(incoming):\n",
    "    result = incoming.replace(\"*\", \" \").replace(\"\\n\", \" \").replace(\"  \", \" \").replace(\"  \", \" \").strip()\n",
    "    return result"
   ]
  },
  {
   "cell_type": "code",
   "execution_count": null,
   "id": "32e01866",
   "metadata": {},
   "outputs": [],
   "source": [
    "def extract_description(description):        \n",
    "    \"\"\"Key text seems to be found before HAZARD, in the last section before a double newline\"\"\"\n",
    "    try:\n",
    "        chunks = description.split(\"\\n\\n\")\n",
    "        for i, chunk in enumerate(chunks):\n",
    "            if \"HAZARD\" in chunk:\n",
    "                # print(f\"Hazard found in chunk {i}\")\n",
    "                break\n",
    "        if i == 0:\n",
    "            # print(\"Returning description\")\n",
    "            return description\n",
    "        else:\n",
    "            # print(\"success!\")\n",
    "            return clean_text(chunks[i-1])\n",
    "    except:\n",
    "        # print(\"except\")\n",
    "        return description"
   ]
  },
  {
   "cell_type": "code",
   "execution_count": null,
   "id": "5857cc51",
   "metadata": {},
   "outputs": [],
   "source": [
    "new_narratives = {}\n",
    "for configentry in config:\n",
    "    # If this matches the region and quality we're looking for\n",
    "    local_narratives = []\n",
    "    for warning in new_warnings:\n",
    "        narrative = f\"{'; '.join(warning.area_desc)}: {extract_description(warning.description)}. \"\n",
    "        if \"CMAMtext\" in warning.parameters:\n",
    "            narrative += f\"{' '.join(warning.parameters['CMAMtext'])}\"\n",
    "        print(narrative)\n",
    "        local_narratives.append(narrative)\n",
    "    new_narratives[configentry] = local_narratives"
   ]
  },
  {
   "cell_type": "code",
   "execution_count": null,
   "id": "59cebe6e",
   "metadata": {},
   "outputs": [],
   "source": [
    "def write_text_log(hackyenvironment, narrative):\n",
    "    with open(hackyenvironment, \"r+\", encoding=\"utf-8\") as outfile:\n",
    "        old_text = outfile.read()   # Get existing contents\n",
    "        outfile.seek(0, 0)    # Get to beginning of file\n",
    "        outfile.write(f\"{str(timestamp)}: {narrative}\\r\\n{old_text}\")"
   ]
  },
  {
   "cell_type": "code",
   "execution_count": null,
   "id": "0680097e",
   "metadata": {},
   "outputs": [],
   "source": [
    "# Print testing environment reports -- don't send anything\n",
    "if testenvironment:      # Not production!\n",
    "    for configentry in config:\n",
    "        if configentry in new_narratives and len(new_narratives[configentry]) > 0:    # If we have stuff to report\n",
    "            for narrative in new_narratives[configentry]:\n",
    "                print(narrative)"
   ]
  },
  {
   "cell_type": "code",
   "execution_count": null,
   "id": "60216936",
   "metadata": {},
   "outputs": [],
   "source": [
    "if not testenvironment:   # Production!\n",
    "    for configentry in config:\n",
    "        if configentry in new_narratives and len(new_narratives[configentry]) > 0:    # If we have stuff to report\n",
    "            try:\n",
    "                client = Client()\n",
    "                client.login(f\"{configentry}.bsky.social\", config[configentry]['app_password'])\n",
    "                for narrative in new_narratives[configentry]:\n",
    "                    try:\n",
    "                        post = client.send_post(narrative)\n",
    "                    except Exception:\n",
    "                        print(f\"Posting failed -- rate limited on {configentry}: {narrative}\")\n",
    "                    sleep(naptime)\n",
    "            except Exception:\n",
    "                print(f\"Login failed -- rate limited on {configentry}\")"
   ]
  },
  {
   "cell_type": "code",
   "execution_count": null,
   "id": "c079d0bc",
   "metadata": {},
   "outputs": [],
   "source": [
    "if hackyenvironment:\n",
    "    for configentry in config:\n",
    "        if configentry in new_narratives and len(new_narratives[configentry]) > 0:    # If we have stuff to report\n",
    "            for narrative in new_narratives[configentry]:\n",
    "                write_text_log(hackyenvironment, narrative)"
   ]
  },
  {
   "cell_type": "raw",
   "id": "ffdb37bd",
   "metadata": {},
   "source": [
    "# Disabled\n",
    "for configentry in config:\n",
    "    if configentry in new_narratives and len(new_narratives[configentry]) > 0:    # If we have stuff to report\n",
    "        if testenvironment:\n",
    "            for narrative in new_narratives[configentry]:\n",
    "                print(narrative)\n",
    "                if hackyenvironment:\n",
    "                    write_text_log(hackyenvironment, narrative)\n",
    "        else:    # not testenvironment, production\n",
    "            client = Client()\n",
    "            client.login(f\"{configentry}.bsky.social\", config[configentry]['app_password'])\n",
    "            for narrative in new_narratives[configentry]:\n",
    "                if hackyenvironment:\n",
    "                    write_text_log(hackyenvironment, narrative)\n",
    "                try:\n",
    "                    post = client.send_post(narrative)\n",
    "                except RequestException:\n",
    "                    print(f\"Posting failed -- rate limited: {narrative}\")\n",
    "                sleep(naptime)"
   ]
  },
  {
   "cell_type": "code",
   "execution_count": null,
   "id": "01d745df",
   "metadata": {},
   "outputs": [],
   "source": [
    "with open(recentspottingsfile, \"w\", encoding=\"utf-8\") as outfile:\n",
    "    outfile.write(json.dumps(recentspottings, indent=4*' ', default=str))"
   ]
  },
  {
   "cell_type": "code",
   "execution_count": null,
   "id": "1c00b2a9",
   "metadata": {},
   "outputs": [],
   "source": []
  }
 ],
 "metadata": {
  "kernelspec": {
   "display_name": "Python 3 (ipykernel)",
   "language": "python",
   "name": "python3"
  },
  "language_info": {
   "codemirror_mode": {
    "name": "ipython",
    "version": 3
   },
   "file_extension": ".py",
   "mimetype": "text/x-python",
   "name": "python",
   "nbconvert_exporter": "python",
   "pygments_lexer": "ipython3",
   "version": "3.10.6"
  }
 },
 "nbformat": 4,
 "nbformat_minor": 5
}
